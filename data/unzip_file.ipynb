{
 "cells": [
  {
   "cell_type": "code",
   "execution_count": 1,
   "id": "efc6daaf-3056-42f4-a8e9-17dd5a4cf9b2",
   "metadata": {},
   "outputs": [],
   "source": [
    "import zipfile\n",
    "path2file = 'archive.zip'\n",
    "with zipfile.ZipFile(path2file, 'r') as zip_ref:\n",
    "    zip_ref.extractall()"
   ]
  }
 ],
 "metadata": {
  "kernelspec": {
   "display_name": "Python 3",
   "language": "python",
   "name": "python3"
  },
  "language_info": {
   "codemirror_mode": {
    "name": "ipython",
    "version": 3
   },
   "file_extension": ".py",
   "mimetype": "text/x-python",
   "name": "python",
   "nbconvert_exporter": "python",
   "pygments_lexer": "ipython3",
   "version": "3.8.8"
  }
 },
 "nbformat": 4,
 "nbformat_minor": 5
}
