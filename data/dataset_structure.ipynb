{
 "cells": [
  {
   "cell_type": "code",
   "execution_count": 4,
   "id": "158671ce-0991-471b-b6e3-e9b968c2f11e",
   "metadata": {},
   "outputs": [],
   "source": [
    "import glob\n",
    "import pandas as pd\n",
    "import pickle"
   ]
  },
  {
   "cell_type": "markdown",
   "id": "5a379b4c-1b90-4d53-a602-9ac111198ff5",
   "metadata": {},
   "source": [
    "Data CSVs"
   ]
  },
  {
   "cell_type": "code",
   "execution_count": 5,
   "id": "121874e0-b864-470e-b8b6-20b9a145909e",
   "metadata": {},
   "outputs": [
    {
     "name": "stdout",
     "output_type": "stream",
     "text": [
      "Data CSV files:\n"
     ]
    },
    {
     "data": {
      "text/plain": [
       "['MachineLearningCSV/MachineLearningCVE\\\\Friday-WorkingHours-Afternoon-DDos.pcap_ISCX.csv',\n",
       " 'MachineLearningCSV/MachineLearningCVE\\\\Friday-WorkingHours-Afternoon-PortScan.pcap_ISCX.csv',\n",
       " 'MachineLearningCSV/MachineLearningCVE\\\\Friday-WorkingHours-Morning.pcap_ISCX.csv',\n",
       " 'MachineLearningCSV/MachineLearningCVE\\\\Monday-WorkingHours.pcap_ISCX.csv',\n",
       " 'MachineLearningCSV/MachineLearningCVE\\\\Thursday-WorkingHours-Afternoon-Infilteration.pcap_ISCX.csv',\n",
       " 'MachineLearningCSV/MachineLearningCVE\\\\Thursday-WorkingHours-Morning-WebAttacks.pcap_ISCX.csv',\n",
       " 'MachineLearningCSV/MachineLearningCVE\\\\Tuesday-WorkingHours.pcap_ISCX.csv',\n",
       " 'MachineLearningCSV/MachineLearningCVE\\\\Wednesday-workingHours.pcap_ISCX.csv']"
      ]
     },
     "metadata": {},
     "output_type": "display_data"
    }
   ],
   "source": [
    "# Data CSVs\n",
    "csv_files = glob.glob('MachineLearningCSV/MachineLearningCVE/*.csv')\n",
    "print('Data CSV files:')\n",
    "display(csv_files)"
   ]
  },
  {
   "cell_type": "markdown",
   "id": "7a18aec4-fc83-4fad-8e7c-b76a2287a3fc",
   "metadata": {},
   "source": [
    "Check that all tables include the same titles"
   ]
  },
  {
   "cell_type": "code",
   "execution_count": 6,
   "id": "0ea50f38-35d5-43fa-b460-7e7ce741fffb",
   "metadata": {},
   "outputs": [],
   "source": [
    "titles_dictionery = {}\n",
    "# Tables columns \n",
    "for file in csv_files:\n",
    "    file_name = file.split('/')[-1].split('\\\\')[-1][:-4]\n",
    "    titles_dictionery[file_name] = pd.read_csv(file, index_col=0, nrows=0).columns.tolist()\n",
    "    \n",
    "# check that all tables include the same titles\n",
    "for file in list(titles_dictionery):\n",
    "    for file2compare in list(titles_dictionery):\n",
    "        if file == file2compare:\n",
    "            continue\n",
    "        if titles_dictionery[file] != titles_dictionery[file2compare]:\n",
    "            print(f\"{file} and {file2compare} DO NOT include the same columns names\")"
   ]
  },
  {
   "cell_type": "code",
   "execution_count": 7,
   "id": "ea7ec847-cc54-4c73-a678-61792cbbd770",
   "metadata": {},
   "outputs": [
    {
     "name": "stdout",
     "output_type": "stream",
     "text": [
      "Raw data shape: (2830743, 80)\n"
     ]
    }
   ],
   "source": [
    "# Concat all DataFrames to one\n",
    "data = [] \n",
    "for file in csv_files:\n",
    "    file_name = file.split('/')[-1].split('\\\\')[-1][:-4]    # extract file name from path\n",
    "    tmp_df = pd.read_csv(file)                              # read csv\n",
    "    tmp_df.loc[:, 'source'] = file_name                     # create\\fill source column\n",
    "    data.append(tmp_df)                                     # append to list\n",
    "    \n",
    "# concat\n",
    "df = pd.concat(data)\n",
    "print(f\"Raw data shape: {df.shape}\")"
   ]
  },
  {
   "cell_type": "code",
   "execution_count": 5,
   "id": "b3029171-5b15-40b6-9b10-29bda53064b5",
   "metadata": {},
   "outputs": [],
   "source": [
    "# save as pickle file\n",
    "with open('raw_data.pkl', 'wb') as f:\n",
    "    pickle.dump(df, f)"
   ]
  }
 ],
 "metadata": {
  "kernelspec": {
   "display_name": "Python 3",
   "language": "python",
   "name": "python3"
  },
  "language_info": {
   "codemirror_mode": {
    "name": "ipython",
    "version": 3
   },
   "file_extension": ".py",
   "mimetype": "text/x-python",
   "name": "python",
   "nbconvert_exporter": "python",
   "pygments_lexer": "ipython3",
   "version": "3.8.8"
  }
 },
 "nbformat": 4,
 "nbformat_minor": 5
}
