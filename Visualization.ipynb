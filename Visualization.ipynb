{
 "cells": [
  {
   "cell_type": "code",
   "execution_count": 7,
   "id": "fed0e8d9-3637-40b4-a9a7-4f35d81078f7",
   "metadata": {},
   "outputs": [],
   "source": [
    "import matplotlib.pyplot as plt\n",
    "import numpy as np\n",
    "import os\n",
    "import pandas as pd\n",
    "import pickle\n",
    "import time\n",
    "\n",
    "from sklearn.preprocessing import StandardScaler\n",
    "from sklearn.decomposition import PCA"
   ]
  },
  {
   "cell_type": "code",
   "execution_count": 8,
   "id": "df244b92-259f-4f72-9457-974be223825b",
   "metadata": {},
   "outputs": [
    {
     "name": "stdout",
     "output_type": "stream",
     "text": [
      "Raw data loading time: 2.63 seconds\n",
      "DataFrame occupies: 1.83 GB\n",
      "\n",
      "Columns Names (after striping):\n",
      "Index(['Destination Port', 'Flow Duration', 'Total Fwd Packets',\n",
      "       'Total Backward Packets', 'Total Length of Fwd Packets',\n",
      "       'Total Length of Bwd Packets', 'Fwd Packet Length Max',\n",
      "       'Fwd Packet Length Min', 'Fwd Packet Length Mean',\n",
      "       'Fwd Packet Length Std', 'Bwd Packet Length Max',\n",
      "       'Bwd Packet Length Min', 'Bwd Packet Length Mean',\n",
      "       'Bwd Packet Length Std', 'Flow Bytes/s', 'Flow Packets/s',\n",
      "       'Flow IAT Mean', 'Flow IAT Std', 'Flow IAT Max', 'Flow IAT Min',\n",
      "       'Fwd IAT Total', 'Fwd IAT Mean', 'Fwd IAT Std', 'Fwd IAT Max',\n",
      "       'Fwd IAT Min', 'Bwd IAT Total', 'Bwd IAT Mean', 'Bwd IAT Std',\n",
      "       'Bwd IAT Max', 'Bwd IAT Min', 'Fwd PSH Flags', 'Bwd PSH Flags',\n",
      "       'Fwd URG Flags', 'Bwd URG Flags', 'Fwd Header Length',\n",
      "       'Bwd Header Length', 'Fwd Packets/s', 'Bwd Packets/s',\n",
      "       'Min Packet Length', 'Max Packet Length', 'Packet Length Mean',\n",
      "       'Packet Length Std', 'Packet Length Variance', 'FIN Flag Count',\n",
      "       'SYN Flag Count', 'RST Flag Count', 'PSH Flag Count', 'ACK Flag Count',\n",
      "       'URG Flag Count', 'CWE Flag Count', 'ECE Flag Count', 'Down/Up Ratio',\n",
      "       'Average Packet Size', 'Avg Fwd Segment Size', 'Avg Bwd Segment Size',\n",
      "       'Fwd Header Length.1', 'Fwd Avg Bytes/Bulk', 'Fwd Avg Packets/Bulk',\n",
      "       'Fwd Avg Bulk Rate', 'Bwd Avg Bytes/Bulk', 'Bwd Avg Packets/Bulk',\n",
      "       'Bwd Avg Bulk Rate', 'Subflow Fwd Packets', 'Subflow Fwd Bytes',\n",
      "       'Subflow Bwd Packets', 'Subflow Bwd Bytes', 'Init_Win_bytes_forward',\n",
      "       'Init_Win_bytes_backward', 'act_data_pkt_fwd', 'min_seg_size_forward',\n",
      "       'Active Mean', 'Active Std', 'Active Max', 'Active Min', 'Idle Mean',\n",
      "       'Idle Std', 'Idle Max', 'Idle Min', 'Label', 'source'],\n",
      "      dtype='object')\n",
      "Raw data shape: (2830743, 80)\n",
      "positive numpy inf in tmp: Index([], dtype='object')\n",
      "negative numpy inf in tmp: Index([], dtype='object')\n",
      "post numpy inf replacement:\n",
      "positive numpy inf in data: False\n",
      "negative numpy inf in data: False\n",
      "NA values are in:\n",
      "Index(['Flow Bytes/s'], dtype='object')\n",
      "NaNs were found in Flow Bytes/s and replaced by the value 0.0\n",
      "Missing data (after fillna): False\n"
     ]
    }
   ],
   "source": [
    "path2data = './data/raw_data.pkl'                                    # path to Data\n",
    "start = time.time()                                                  # start loading time\n",
    "with open(path2data, 'rb') as f:                                     # load data\n",
    "    df = pickle.load(f)\n",
    "end = time.time()                                                    # end loading time\n",
    "print(f\"Raw data loading time: {np.round(end - start, 2)} seconds\")  # document loading time\n",
    "memory_usage_GB = df.memory_usage(index=True).sum() * 1e-9           # memory usage\n",
    "print(f\"DataFrame occupies: {np.round(memory_usage_GB, 2)} GB\")      # document memory usage\n",
    "\n",
    "# Removes leading and trailing characters (whitespace by default)\n",
    "# meaning was taken under consideration\n",
    "df.columns = [col.strip() for col in list(df.columns)]\n",
    "print(f\"\\nColumns Names (after striping):\\n{df.columns}\")\n",
    "\n",
    "df = df.reset_index(drop=True)\n",
    "print(f\"Raw data shape: {df.shape}\")                                 # raw data shape\n",
    "\n",
    "# replace inf with nan temporarily for max value calculations\n",
    "tmp = df[['Flow Bytes/s', 'Flow Packets/s']]\n",
    "tmp = tmp.replace([-np.inf, np.inf], np.nan)\n",
    "print(f\"positive numpy inf in tmp: {tmp.columns[(tmp == np.inf).any()]}\")\n",
    "print(f\"negative numpy inf in tmp: {tmp.columns[(tmp == -np.inf).any()]}\")\n",
    "max_dict = tmp.max().to_dict()\n",
    "\n",
    "# replace inf with 10 * df['Flow Bytes/s'].max()\n",
    "df['Flow Bytes/s'] = df['Flow Bytes/s'].replace(np.inf, 10 * max_dict['Flow Bytes/s'])     \n",
    "# replace inf with 10 * df['Flow Packets/s'].max()\n",
    "df['Flow Packets/s'] = df['Flow Packets/s'].replace(np.inf, 10 * max_dict['Flow Packets/s']) \n",
    "\n",
    "# check again for np.inf or -np.inf in data\n",
    "print('post numpy inf replacement:')\n",
    "print(f\"positive numpy inf in data: {(df == np.inf).any().any()}\")\n",
    "print(f\"negative numpy inf in data: {(df == -np.inf).any().any()}\")\n",
    "\n",
    "# check for NA values in data\n",
    "print('NA values are in:')\n",
    "print(df.columns[df.isna().any()])\n",
    "\n",
    "modes =  df.mode().T.to_dict()[0]  # get modes\n",
    "del modes['Label']                 # delete Label\n",
    "del modes['source']                # delete source\n",
    "    \n",
    "# fill missing data\n",
    "for col in list(df.columns):\n",
    "    if df[col].isna().any():\n",
    "        df[col] = df[col].fillna(modes[col])\n",
    "        print(f\"NaNs were found in {col} and replaced by the value {modes[col]}\")\n",
    "print(f\"Missing data (after fillna): {df.isna().any().any()}\")  "
   ]
  },
  {
   "cell_type": "markdown",
   "id": "667757ae-51b5-464d-9929-878d914060ba",
   "metadata": {},
   "source": [
    "Feature Distributions"
   ]
  },
  {
   "cell_type": "code",
   "execution_count": 3,
   "id": "3beca6e4-3d32-4ebe-91b7-a8c12db926f5",
   "metadata": {},
   "outputs": [],
   "source": [
    "for col in df.columns:\n",
    "    try:\n",
    "        if col in ['Label', 'source']:\n",
    "            continue\n",
    "        figname = (col + '.png').replace('/', ' ')\n",
    "        plt.figure()\n",
    "        df[col].hist(grid=False, alpha=0.5, ec='black')\n",
    "        plt.title(col + ' Distribution')\n",
    "        plt.xlabel('Value')\n",
    "        plt.ylabel('Count')\n",
    "        plt.savefig(os.path.join('Images/Feature_Distribution', figname))\n",
    "        plt.close('all')\n",
    "    except Exception as inst:\n",
    "        print(col)\n",
    "        print(inst)"
   ]
  },
  {
   "cell_type": "markdown",
   "id": "2ab0d1e6-23b5-49aa-b62c-7ba3b2ae2770",
   "metadata": {},
   "source": [
    "BoxPlot"
   ]
  },
  {
   "cell_type": "code",
   "execution_count": 4,
   "id": "80dae00e-be5f-4428-b40f-a32581910d74",
   "metadata": {},
   "outputs": [],
   "source": [
    "for col in df.columns:\n",
    "    try:\n",
    "        if col in ['Label', 'source']:\n",
    "            continue\n",
    "        figname = (col + '.png').replace('/', ' ')\n",
    "        plt.figure()\n",
    "        plt.boxplot(df[col])\n",
    "        plt.xticks([1], [col])\n",
    "        plt.title(col + ' BoxPlot')\n",
    "        plt.savefig(os.path.join('Images/BoxPlot', figname))\n",
    "        plt.close('all')\n",
    "    except Exception as inst:\n",
    "        print(col)\n",
    "        print(inst)"
   ]
  },
  {
   "cell_type": "markdown",
   "id": "ac9b5197-4035-40ba-a889-6c280f91c246",
   "metadata": {},
   "source": [
    "PCA"
   ]
  },
  {
   "cell_type": "code",
   "execution_count": 9,
   "id": "e04cd394-e4fe-46c7-b001-fbdd26511c7d",
   "metadata": {},
   "outputs": [],
   "source": [
    "df = df.drop(['Label', 'source'], axis=1)\n",
    "# Scale features\n",
    "x = StandardScaler().fit_transform(df.values)\n",
    "\n",
    "# PCA\n",
    "pca = PCA(n_components=0.95)\n",
    "\n",
    "principalComponents = pca.fit_transform(x)\n",
    "\n",
    "principal_df = pd.DataFrame(principalComponents, \n",
    "                            columns = ['PC ' + str(i + 1) for i in range(principalComponents.shape[1])])"
   ]
  },
  {
   "cell_type": "markdown",
   "id": "da7fa683-1c57-4684-b21b-5d57eabfa63b",
   "metadata": {},
   "source": [
    "The explained variance tells how much information (variance) can be attributed to each of the principal components."
   ]
  },
  {
   "cell_type": "code",
   "execution_count": 10,
   "id": "d582c0c5-9775-4b54-af6d-883c1e801477",
   "metadata": {},
   "outputs": [
    {
     "data": {
      "image/png": "[encoded data removed]",
      "text/plain": [
       "<Figure size 1080x720 with 1 Axes>"
      ]
     },
     "metadata": {
      "needs_background": "light"
     },
     "output_type": "display_data"
    }
   ],
   "source": [
    "pca_explained_variance_ratio_ = pd.Series(pca.explained_variance_ratio_, index=principal_df.columns)\n",
    "\n",
    "plt.figure(figsize=(15, 10))\n",
    "pca_explained_variance_ratio_.plot.barh()\n",
    "plt.title('PCA Explained Variance Ratio\\n(0.95 of the variance)')\n",
    "plt.savefig('Images/PCA/Explained_Variance_Ratio.png')\n",
    "plt.show()"
   ]
  },
  {
   "cell_type": "code",
   "execution_count": null,
   "id": "677cfdee-6919-45d0-8a21-73befe7c80b8",
   "metadata": {},
   "outputs": [],
   "source": []
  }
 ],
 "metadata": {
  "kernelspec": {
   "display_name": "Python 3",
   "language": "python",
   "name": "python3"
  },
  "language_info": {
   "codemirror_mode": {
    "name": "ipython",
    "version": 3
   },
   "file_extension": ".py",
   "mimetype": "text/x-python",
   "name": "python",
   "nbconvert_exporter": "python",
   "pygments_lexer": "ipython3",
   "version": "3.8.8"
  }
 },
 "nbformat": 4,
 "nbformat_minor": 5
}
