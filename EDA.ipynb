{
 "cells": [
  {
   "cell_type": "markdown",
   "id": "d56e0ef5-fb7f-4734-b7ba-e4c105873a49",
   "metadata": {},
   "source": [
    "## Import libraries"
   ]
  },
  {
   "cell_type": "code",
   "execution_count": 27,
   "id": "cf57c63d-394e-469d-9a56-77758b43c852",
   "metadata": {},
   "outputs": [],
   "source": [
    "import matplotlib.pyplot as plt \n",
    "import numpy as np\n",
    "import pandas as pd\n",
    "import pickle\n",
    "import time\n",
    "import os\n",
    "import json\n",
    "\n",
    "from sklearn.preprocessing import StandardScaler\n",
    "from sklearn.cluster import KMeans"
   ]
  },
  {
   "cell_type": "markdown",
   "id": "46150eda-ea6b-4ea8-8090-35049cdba05e",
   "metadata": {},
   "source": [
    "## Data\n",
    "<br>CICIDS2017 dataset contains benign and the most up-to-date common attacks, which resembles the true real-world data (PCAPs). It also includes the results of the network traffic analysis using CICFlowMeter with labeled flows based on the time stamp, source, and destination IPs, source and destination ports, protocols and attack (CSV files). Also available is the extracted features definition.\n",
    "<br>The data capturing period started at 9 a.m., Monday, July 3, 2017, and ended at 5 p.m. on Friday, July 7, 2017, for a total of 5 days. Monday is the normal day and only includes benign traffic. The implemented attacks include Brute Force FTP, Brute Force SSH, DoS, Heartbleed, Web Attack, Infiltration, Botnet and DDoS. They have been executed both morning and afternoon on Tuesday, Wednesday, Thursday and Friday.\n",
    "<br> On this assignment, raw data (all CSV files concatinated to one pandas DataFrame) is located in: data/raw_data.pkl."
   ]
  },
  {
   "cell_type": "code",
   "execution_count": 28,
   "id": "11168499-a3ce-41f8-af53-d848e183ed8b",
   "metadata": {},
   "outputs": [
    {
     "name": "stdout",
     "output_type": "stream",
     "text": [
      "Raw data loading time: 1.73 seconds\n",
      "DataFrame occupies: 1.83 GB\n",
      "\n",
      "Columns Names (after striping):\n",
      "Index(['Destination Port', 'Flow Duration', 'Total Fwd Packets',\n",
      "       'Total Backward Packets', 'Total Length of Fwd Packets',\n",
      "       'Total Length of Bwd Packets', 'Fwd Packet Length Max',\n",
      "       'Fwd Packet Length Min', 'Fwd Packet Length Mean',\n",
      "       'Fwd Packet Length Std', 'Bwd Packet Length Max',\n",
      "       'Bwd Packet Length Min', 'Bwd Packet Length Mean',\n",
      "       'Bwd Packet Length Std', 'Flow Bytes/s', 'Flow Packets/s',\n",
      "       'Flow IAT Mean', 'Flow IAT Std', 'Flow IAT Max', 'Flow IAT Min',\n",
      "       'Fwd IAT Total', 'Fwd IAT Mean', 'Fwd IAT Std', 'Fwd IAT Max',\n",
      "       'Fwd IAT Min', 'Bwd IAT Total', 'Bwd IAT Mean', 'Bwd IAT Std',\n",
      "       'Bwd IAT Max', 'Bwd IAT Min', 'Fwd PSH Flags', 'Bwd PSH Flags',\n",
      "       'Fwd URG Flags', 'Bwd URG Flags', 'Fwd Header Length',\n",
      "       'Bwd Header Length', 'Fwd Packets/s', 'Bwd Packets/s',\n",
      "       'Min Packet Length', 'Max Packet Length', 'Packet Length Mean',\n",
      "       'Packet Length Std', 'Packet Length Variance', 'FIN Flag Count',\n",
      "       'SYN Flag Count', 'RST Flag Count', 'PSH Flag Count', 'ACK Flag Count',\n",
      "       'URG Flag Count', 'CWE Flag Count', 'ECE Flag Count', 'Down/Up Ratio',\n",
      "       'Average Packet Size', 'Avg Fwd Segment Size', 'Avg Bwd Segment Size',\n",
      "       'Fwd Header Length.1', 'Fwd Avg Bytes/Bulk', 'Fwd Avg Packets/Bulk',\n",
      "       'Fwd Avg Bulk Rate', 'Bwd Avg Bytes/Bulk', 'Bwd Avg Packets/Bulk',\n",
      "       'Bwd Avg Bulk Rate', 'Subflow Fwd Packets', 'Subflow Fwd Bytes',\n",
      "       'Subflow Bwd Packets', 'Subflow Bwd Bytes', 'Init_Win_bytes_forward',\n",
      "       'Init_Win_bytes_backward', 'act_data_pkt_fwd', 'min_seg_size_forward',\n",
      "       'Active Mean', 'Active Std', 'Active Max', 'Active Min', 'Idle Mean',\n",
      "       'Idle Std', 'Idle Max', 'Idle Min', 'Label', 'source'],\n",
      "      dtype='object')\n",
      "Raw data shape: (2830743, 80)\n"
     ]
    }
   ],
   "source": [
    "path2data = './data/raw_data.pkl'                                    # path to Data\n",
    "start = time.time()                                                  # start loading time\n",
    "with open(path2data, 'rb') as f:                                     # load data\n",
    "    df = pickle.load(f)\n",
    "end = time.time()                                                    # end loading time\n",
    "print(f\"Raw data loading time: {np.round(end - start, 2)} seconds\")  # document loading time\n",
    "memory_usage_GB = df.memory_usage(index=True).sum() * 1e-9           # memory usage\n",
    "print(f\"DataFrame occupies: {np.round(memory_usage_GB, 2)} GB\")      # document memory usage\n",
    "\n",
    "# Removes leading and trailing characters (whitespace)\n",
    "# meaning was taken under consideration\n",
    "df.columns = [col.strip() for col in list(df.columns)]\n",
    "print(f\"\\nColumns Names (after striping):\\n{df.columns}\")\n",
    "\n",
    "df = df.reset_index(drop=True)\n",
    "print(f\"Raw data shape: {df.shape}\")                                 # raw data shape"
   ]
  },
  {
   "cell_type": "markdown",
   "id": "02b1e6ac-68a7-45f8-aaad-487d84a9c425",
   "metadata": {},
   "source": [
    "## Data Preprocessing (Exploration and Wrangling)\n",
    "<br>Describe:\n",
    "<br>Generate descriptive statistics. Descriptive statistics include those that summarize the central tendency, dispersion and shape of a dataset’s distribution, excluding NaN values. Descriptive statistics is documented at: wrangling/descriptive_statistics.csv."
   ]
  },
  {
   "cell_type": "code",
   "execution_count": 29,
   "id": "2a05f5f4-1145-418d-b418-070f699e6e25",
   "metadata": {},
   "outputs": [],
   "source": [
    "statistics = df.describe()                                    # descriptive statistics\n",
    "statistics.T.to_csv('wrangling/descriptive_statistics.csv')   # save descriptive statistics as csv"
   ]
  },
  {
   "cell_type": "markdown",
   "id": "5dc7a575-f4ad-40c4-b3c9-9ebc3fa4bb15",
   "metadata": {},
   "source": [
    "<br>Observation: Flow Bytes/s and Flow Packets/s include numpy inf.\n",
    "<br>Note: pandas isna() detects NA, Characters such as empty strings or numpy.inf are not considered NA values.\n",
    "<br>numpy inf values will be replaced with the value of: 10 * feature_max_value"
   ]
  },
  {
   "cell_type": "code",
   "execution_count": 30,
   "id": "4e6ee30c-8b33-480e-b359-3edfb8931ef0",
   "metadata": {},
   "outputs": [
    {
     "name": "stdout",
     "output_type": "stream",
     "text": [
      "positive numpy inf in data: Index(['Flow Bytes/s', 'Flow Packets/s'], dtype='object')\n",
      "negative numpy inf in data: Index([], dtype='object')\n"
     ]
    }
   ],
   "source": [
    "# columns with numpy -inf or inf\n",
    "print(f\"positive numpy inf in data: {df.columns[(df == np.inf).any()]}\")\n",
    "print(f\"negative numpy inf in data: {df.columns[(df == -np.inf).any()]}\")"
   ]
  },
  {
   "cell_type": "markdown",
   "id": "4a2e2680-1fa6-44b2-8fb8-5dbe54a1248b",
   "metadata": {},
   "source": [
    "What Labels include numpy inf? "
   ]
  },
  {
   "cell_type": "code",
   "execution_count": 31,
   "id": "42cd2c5b-9cf6-4af6-be16-34221dda306b",
   "metadata": {},
   "outputs": [
    {
     "data": {
      "text/plain": [
       "BENIGN         1368\n",
       "PortScan        126\n",
       "Bot              10\n",
       "FTP-Patator       3\n",
       "DDoS              2\n",
       "Name: Label, dtype: int64"
      ]
     },
     "execution_count": 31,
     "metadata": {},
     "output_type": "execute_result"
    }
   ],
   "source": [
    "df['Label'][df['Flow Bytes/s'] == np.inf].value_counts()"
   ]
  },
  {
   "cell_type": "code",
   "execution_count": 32,
   "id": "d1eb5173-62a0-44c9-b5d9-29acff023199",
   "metadata": {},
   "outputs": [
    {
     "data": {
      "text/plain": [
       "BENIGN         1777\n",
       "DoS Hulk        949\n",
       "PortScan        126\n",
       "Bot              10\n",
       "FTP-Patator       3\n",
       "DDoS              2\n",
       "Name: Label, dtype: int64"
      ]
     },
     "execution_count": 32,
     "metadata": {},
     "output_type": "execute_result"
    }
   ],
   "source": [
    "df['Label'][df['Flow Packets/s'] == np.inf].value_counts()"
   ]
  },
  {
   "cell_type": "code",
   "execution_count": 33,
   "id": "f4a4eed1-994b-48f5-b395-7c774dfcaddd",
   "metadata": {},
   "outputs": [
    {
     "data": {
      "text/plain": [
       "BENIGN         1368\n",
       "PortScan        126\n",
       "Bot              10\n",
       "FTP-Patator       3\n",
       "DDoS              2\n",
       "Name: Label, dtype: int64"
      ]
     },
     "execution_count": 33,
     "metadata": {},
     "output_type": "execute_result"
    }
   ],
   "source": [
    "df['Label'].loc[(df['Flow Packets/s'] == np.inf) & (df['Flow Bytes/s'] == np.inf)].value_counts()"
   ]
  },
  {
   "cell_type": "code",
   "execution_count": 34,
   "id": "ec6d13ba-9524-4593-a52e-31a0f9a22152",
   "metadata": {},
   "outputs": [
    {
     "name": "stdout",
     "output_type": "stream",
     "text": [
      "positive numpy inf in tmp: Index([], dtype='object')\n",
      "negative numpy inf in tmp: Index([], dtype='object')\n"
     ]
    }
   ],
   "source": [
    "# replace inf with nan temporarily for max value calculations\n",
    "tmp = df[['Flow Bytes/s', 'Flow Packets/s']]\n",
    "tmp = tmp.replace([-np.inf, np.inf], np.nan)\n",
    "print(f\"positive numpy inf in tmp: {tmp.columns[(tmp == np.inf).any()]}\")\n",
    "print(f\"negative numpy inf in tmp: {tmp.columns[(tmp == -np.inf).any()]}\")\n",
    "max_dict = tmp.max().to_dict()"
   ]
  },
  {
   "cell_type": "code",
   "execution_count": 35,
   "id": "b8bc4eb5-e47d-47fa-bf9c-d845c38d5114",
   "metadata": {},
   "outputs": [
    {
     "name": "stdout",
     "output_type": "stream",
     "text": [
      "post numpy inf replacement:\n",
      "positive numpy inf in data: False\n",
      "negative numpy inf in data: False\n",
      "NA values are in:\n",
      "Index(['Flow Bytes/s'], dtype='object')\n"
     ]
    }
   ],
   "source": [
    "# replace inf with 10 * df['Flow Bytes/s'].max()\n",
    "df['Flow Bytes/s'] = df['Flow Bytes/s'].replace(np.inf, 10 * max_dict['Flow Bytes/s'])     \n",
    "# replace inf with 10 * df['Flow Packets/s'].max()\n",
    "df['Flow Packets/s'] = df['Flow Packets/s'].replace(np.inf, 10 * max_dict['Flow Packets/s']) \n",
    "\n",
    "# check again for np.inf or -np.inf in data\n",
    "print('post numpy inf replacement:')\n",
    "print(f\"positive numpy inf in data: {(df == np.inf).any().any()}\")\n",
    "print(f\"negative numpy inf in data: {(df == -np.inf).any().any()}\")\n",
    "\n",
    "# check for NA values in data\n",
    "print('NA values are in:')\n",
    "print(df.columns[df.isna().any()])"
   ]
  },
  {
   "cell_type": "markdown",
   "id": "1a193bed-37f6-42ce-b7a2-b015cdfc5ce8",
   "metadata": {},
   "source": [
    "What Labels include NA? "
   ]
  },
  {
   "cell_type": "code",
   "execution_count": 36,
   "id": "96286fff-279a-4ce9-bdfd-5cab4f184e05",
   "metadata": {},
   "outputs": [
    {
     "data": {
      "text/plain": [
       "DoS Hulk    949\n",
       "BENIGN      409\n",
       "Name: Label, dtype: int64"
      ]
     },
     "execution_count": 36,
     "metadata": {},
     "output_type": "execute_result"
    }
   ],
   "source": [
    "df['Label'][df['Flow Bytes/s'].isna()].value_counts()"
   ]
  },
  {
   "cell_type": "markdown",
   "id": "8bd6255a-1352-403e-8727-5a262d147cdc",
   "metadata": {},
   "source": [
    "<br>Observation: data includes NA values at 'Flow Bytes/s'\n",
    "<br>Solution: replace missing data with modes. Modes values will be documented at utils/modes.json\n",
    "<br>Note: NA values can be dropped, I chose not to because on this stage, I don't know the meaning of the action."
   ]
  },
  {
   "cell_type": "code",
   "execution_count": 37,
   "id": "2fd7d798-4e58-4054-a246-ef383fd7f54c",
   "metadata": {},
   "outputs": [
    {
     "name": "stdout",
     "output_type": "stream",
     "text": [
      "NaNs were found in Flow Bytes/s and replaced by the value 0.0\n",
      "Missing data (after fillna): False\n"
     ]
    }
   ],
   "source": [
    "modes =  df.mode().T.to_dict()[0]  # get modes\n",
    "del modes['Label']                 # delete Label\n",
    "del modes['source']                # delete source\n",
    "\n",
    "# save modes \n",
    "with open('utils/modes.json', 'w') as f:\n",
    "    json.dump(json.dumps(modes), f)\n",
    "    \n",
    "# fill missing data\n",
    "for col in list(df.columns):\n",
    "    if df[col].isna().any():\n",
    "        df[col] = df[col].fillna(modes[col])\n",
    "        print(f\"NaNs were found in {col} and replaced by the value {modes[col]}\")\n",
    "print(f\"Missing data (after fillna): {df.isna().any().any()}\")  "
   ]
  },
  {
   "cell_type": "markdown",
   "id": "b14b946e-e104-4483-bf06-12ebe55e0b71",
   "metadata": {},
   "source": [
    "More exploration: data types and number of unique values in each feature"
   ]
  },
  {
   "cell_type": "code",
   "execution_count": 38,
   "id": "a392331e-c321-404a-b2e9-b489509b069e",
   "metadata": {},
   "outputs": [],
   "source": [
    "df.dtypes.to_csv('wrangling/raw_data_type.csv')          # data types\n",
    "df.nunique().to_csv('wrangling/raw_data_n_uniques.csv')  # number of unique values"
   ]
  },
  {
   "cell_type": "markdown",
   "id": "36860872-c278-4774-9bac-c36d3c16815f",
   "metadata": {},
   "source": [
    "Observation: some of the features include only one unique value -> No contribution.\n",
    "<br>Those features will be dropped "
   ]
  },
  {
   "cell_type": "code",
   "execution_count": 39,
   "id": "facac75a-32cd-4a78-9384-bdbb4d71af42",
   "metadata": {},
   "outputs": [
    {
     "name": "stdout",
     "output_type": "stream",
     "text": [
      "Data new shape (after dropping one value features): (2830743, 72)\n"
     ]
    }
   ],
   "source": [
    "nuniques = df.nunique()\n",
    "df = df.drop(nuniques[nuniques == 1].index.to_list(), axis=1).reset_index(drop=True)\n",
    "print(f\"Data new shape (after dropping one value features): {df.shape}\")"
   ]
  },
  {
   "cell_type": "markdown",
   "id": "7938702b-96e8-4b96-9d57-a1d9d2f0f9c5",
   "metadata": {},
   "source": [
    "Correlation between different features\n",
    "<br>Dropping correlated features from data isn't always mandatory, but it's generally recommended for several reasons:\n",
    "- Redundancy: Correlated features contain overlapping information. Keeping both provides no additional insights and can even be detrimental.\n",
    "- Multicollinearity: Highly correlated features can lead to multicollinearity, where model coefficients become unreliable and interpretation difficult.\n",
    "- Model Simplicity: Fewer features often lead to simpler models that are easier to interpret and potentially less prone to overfitting (memorizing the training data instead of learning general patterns).\n",
    "- Computational Efficiency: Training models with fewer features can be faster, especially for complex algorithms.\n",
    "\n",
    "<br> Correlation threshold chosen: 0.9\n",
    "<br> Correlation matrix is documented in wrangling/raw_data_correlation.csv\n",
    "<br> Correlated features names is documented in: utils/correlated_features_names.pkl"
   ]
  },
  {
   "cell_type": "code",
   "execution_count": 40,
   "id": "0a347227-6755-4063-a487-6a6afd2e83f9",
   "metadata": {},
   "outputs": [
    {
     "name": "stdout",
     "output_type": "stream",
     "text": [
      "correlation was found at: ['Total Backward Packets', 'Total Length of Bwd Packets', 'Fwd Packet Length Std', 'Bwd Packet Length Mean', 'Bwd Packet Length Std', 'Flow IAT Max', 'Fwd IAT Total', 'Fwd IAT Std', 'Fwd IAT Max', 'Bwd IAT Min', 'Max Packet Length', 'Packet Length Mean', 'Packet Length Std', 'Packet Length Variance', 'SYN Flag Count', 'CWE Flag Count', 'ECE Flag Count', 'Average Packet Size', 'Avg Fwd Segment Size', 'Avg Bwd Segment Size', 'Fwd Header Length.1', 'Subflow Fwd Packets', 'Subflow Fwd Bytes', 'Subflow Bwd Packets', 'Subflow Bwd Bytes', 'Active Min', 'Idle Mean', 'Idle Max', 'Idle Min']\n",
      "By using correlation threshold of 0.9, 29 features were detected and will be dropped from data.\n"
     ]
    }
   ],
   "source": [
    "# Correlation between features\n",
    "corr_matrix = df.corr().abs().round(2)\n",
    "corr_matrix.to_csv('wrangling/raw_data_correlation.csv')\n",
    "\n",
    "# Select upper triangle of correlation matrix\n",
    "upper = corr_matrix.where(np.triu(np.ones(corr_matrix.shape), k=1).astype(bool))\n",
    "\n",
    "# Find features with correlation greater than threshold\n",
    "threshold = 0.9\n",
    "to_drop = [column for column in upper.columns if any(upper[column] > threshold)]\n",
    "if len(to_drop) == 0:\n",
    "    print('No significant correlation was found between features')\n",
    "else:\n",
    "    print(f\"correlation was found at: {to_drop}\")\n",
    "    \n",
    "with open('utils/correlated_features_names.pkl', 'wb') as f:\n",
    "    pickle.dump(to_drop, f)\n",
    "    \n",
    "print(f\"By using correlation threshold of {threshold}, {len(to_drop)} features were detected and will be dropped from data.\")"
   ]
  },
  {
   "cell_type": "markdown",
   "id": "ec9849fd-61d4-4a29-a6f0-db269c6a6e71",
   "metadata": {},
   "source": [
    "Note:\n",
    "<br>There are situations where dropping correlated features might not be crucial:\n",
    "- Domain Knowledge: If you have strong domain knowledge and understand the meaning of both features, keeping them might be beneficial.\n",
    "- Ensemble Methods: Some ensemble methods (like Random Forests) can handle correlated features better.\n",
    "- Feature Importance: If a correlated feature still has independent predictive power, it might be worth keeping."
   ]
  },
  {
   "cell_type": "code",
   "execution_count": 41,
   "id": "805b4154-20ea-4e24-8518-ed9098c0f78d",
   "metadata": {},
   "outputs": [
    {
     "name": "stdout",
     "output_type": "stream",
     "text": [
      "New data shape (after dropping correlated features): (2830743, 43)\n"
     ]
    }
   ],
   "source": [
    "# drop correlated features\n",
    "df = df.drop(to_drop, axis=1).reset_index(drop=True)\n",
    "print(f\"New data shape (after dropping correlated features): {df.shape}\")"
   ]
  },
  {
   "cell_type": "markdown",
   "id": "9e7f197c-9c83-4a26-84c8-87c82c15e47a",
   "metadata": {},
   "source": [
    "Drop Duplications\n",
    "<br> Duplicate data points in K-Means (ML in general) can unfairly influence cluster centers, giving more weight to redundant information and potentially drowning out unique data points."
   ]
  },
  {
   "cell_type": "code",
   "execution_count": 42,
   "id": "0ee85f5b-b4b3-4d1d-8518-8cccfdb9254f",
   "metadata": {},
   "outputs": [
    {
     "name": "stdout",
     "output_type": "stream",
     "text": [
      "New data shape (after drop_duplicates): (2522256, 43)\n"
     ]
    }
   ],
   "source": [
    "list2consider = list(set(list(df.columns)) - set(['source']))\n",
    "df = df.drop_duplicates(subset = list2consider)\n",
    "print(f\"New data shape (after drop_duplicates): {df.shape}\")"
   ]
  },
  {
   "cell_type": "markdown",
   "id": "bd434bf7-1ffa-4aff-a145-81666f49ffae",
   "metadata": {},
   "source": [
    "Ouliers Suspects using IQR method\n",
    "<br>IQR stands for Interquartile Range. It's a measure of spread or variability used in statistics, specifically focusing on the middle 50% of your data set. IQR is a valuable tool for understanding the distribution of your data, especially when outliers might be present.\n",
    "<br> The data is composed of benign traffic (Monday) and attacks occured during the next 4 days. Seemingly, reducing ouliers at benign samples will reduce data overlapping with the attacks. There are issues with that statment, and the process should be done very carfully but for the purpose of this assignment, IQR method will be presented to identify noisy features. Those features will NOT be dropped. \n",
    "<br> IQR analysis results is documented in: wrangling/raw_data_IQR_analysis.csv"
   ]
  },
  {
   "cell_type": "code",
   "execution_count": 43,
   "id": "9ed44970-356a-409c-8498-c5ba4769d2d4",
   "metadata": {},
   "outputs": [
    {
     "name": "stdout",
     "output_type": "stream",
     "text": [
      "Number of samples in benign_data (2096378, 43)\n",
      "Days distribution in benign_data:\n",
      "Monday-WorkingHours.pcap_ISCX                              502752\n",
      "Tuesday-WorkingHours.pcap_ISCX                             401009\n",
      "Wednesday-workingHours.pcap_ISCX                           396988\n",
      "Thursday-WorkingHours-Afternoon-Infilteration.pcap_ISCX    245983\n",
      "Friday-WorkingHours-Morning.pcap_ISCX                      178240\n",
      "Thursday-WorkingHours-Morning-WebAttacks.pcap_ISCX         154540\n",
      "Friday-WorkingHours-Afternoon-PortScan.pcap_ISCX           121770\n",
      "Friday-WorkingHours-Afternoon-DDos.pcap_ISCX                95096\n",
      "Name: source, dtype: int64\n"
     ]
    }
   ],
   "source": [
    "benign_data = df.loc[df['Label'] == 'BENIGN']\n",
    "print(f\"Number of samples in benign_data {benign_data.shape}\")\n",
    "print(f\"Days distribution in benign_data:\")\n",
    "print(benign_data['source'].value_counts())"
   ]
  },
  {
   "cell_type": "markdown",
   "id": "d23c5cca-f025-4485-8370-44776817044d",
   "metadata": {},
   "source": [
    "Observation: most of the data composed out of BENIGN and distributed along all data sources (5 days)"
   ]
  },
  {
   "cell_type": "code",
   "execution_count": 44,
   "id": "35867678-76eb-4ff8-ba98-cbba99fbbc70",
   "metadata": {},
   "outputs": [],
   "source": [
    "iqr_analysis = []\n",
    "iqr_analysis_columns = ['column', 'iqr', 'lower', 'upper', 'n_lower_outliers', 'n_upper_outliers']\n",
    "whisker_width = 1.5\n",
    "for col in list(benign_data.columns):\n",
    "    if col in ['Label', 'source']:\n",
    "        continue\n",
    "    tmp = benign_data[col].describe()\n",
    "    iqr = tmp.loc['75%'] - tmp.loc['25%']\n",
    "    lower_ = tmp.loc['25%'] - whisker_width * iqr\n",
    "    upper_ = tmp.loc['75%'] + whisker_width * iqr\n",
    "    iqr_analysis.append([col, iqr, lower_,  upper_, len(df[col].loc[df[col] < lower_]), len(df[col].loc[df[col] > upper_].to_list())])\n",
    "         \n",
    "pd.DataFrame(iqr_analysis, columns=iqr_analysis_columns).to_csv('wrangling/raw_data_IQR_analysis.csv')"
   ]
  },
  {
   "cell_type": "markdown",
   "id": "57923b58-3461-4ebe-9d78-160393efc9a1",
   "metadata": {},
   "source": [
    "Conclusion: most of the features include more 100k outliers. A new way will be considered."
   ]
  },
  {
   "cell_type": "markdown",
   "id": "668c0eb6-f6d8-4ff6-8899-719c8e54f958",
   "metadata": {},
   "source": [
    "Downsizing integer"
   ]
  },
  {
   "cell_type": "code",
   "execution_count": 45,
   "id": "6963e9c1-f174-4403-99f6-9c4ead47eca1",
   "metadata": {},
   "outputs": [],
   "source": [
    "# for col in df.columns:\n",
    "#     if col in ['Label', 'source']:\n",
    "#         continue\n",
    "#     before = df[col].dtypes\n",
    "#     # Convert to numeric (might downgrade if possible)\n",
    "#     if before == np.int64:\n",
    "#         df[col] = df[col].astype(np.int16)\n",
    "#     else:\n",
    "#         df[col] = df[col].astype(np.float16)\n",
    "#     after = df[col].dtypes\n",
    "#     # Check the new data type\n",
    "#     print(f\"{col}: Before {before} After {after}\") \n",
    "\n",
    "# memory_usage_GB = df.memory_usage(index=True).sum() * 1e-9           # memory usage\n",
    "# print(f\"DataFrame occupies: {np.round(memory_usage_GB, 2)} GB\")      # document memory usage"
   ]
  },
  {
   "cell_type": "markdown",
   "id": "4ce7bac1-11a9-44ad-8001-138ec90cc675",
   "metadata": {},
   "source": [
    "## Clustering using K-Means - Unsupervised\n",
    "<br> The goal is to idetify benign samples overlapped with attacks by clustering"
   ]
  },
  {
   "cell_type": "code",
   "execution_count": 46,
   "id": "572926aa-53e2-4278-9c46-54cad3f9f2ad",
   "metadata": {},
   "outputs": [
    {
     "name": "stdout",
     "output_type": "stream",
     "text": [
      "Features shape: (2522256, 41). Label/source shape: (2522256, 2)\n"
     ]
    }
   ],
   "source": [
    "# seperate Label and source from data\n",
    "label_source = df[['Label', 'source']].reset_index(drop=True)\n",
    "df = df.drop(['Label', 'source'], axis=1).reset_index(drop=True)\n",
    "print(f\"Features shape: {df.shape}. Label/source shape: {label_source.shape}\")"
   ]
  },
  {
   "cell_type": "markdown",
   "id": "001da7ff-c497-41ec-8cd6-ad4d97bf8ae7",
   "metadata": {},
   "source": [
    "Standard Scaling\n",
    "<br> K-means clustering relies on distance calculations to group data points. When features have different scales, features with larger scales dominate the distance calculation, even if they might not be as relevant for grouping. Scaling features ensures all features contribute equally based on their relative values, not just their magnitude, leading to more meaningful clusters.\n",
    "<br>\n",
    "<br>StandardScaler\n",
    "<br>Standardize features by removing the mean and scaling to unit variance.\n",
    "<br>The standard score of a sample x is calculated as:\n",
    "<br>z = (x - u) / s\n",
    "<br>where u is the mean of the training samples or zero if with_mean=False, and s is the standard deviation of the training samples or <br>one if with_std=False."
   ]
  },
  {
   "cell_type": "code",
   "execution_count": 47,
   "id": "8a54c87e-8b96-4a82-bb3f-aee377f6251b",
   "metadata": {},
   "outputs": [],
   "source": [
    "scaler = StandardScaler()\n",
    "scaler.fit(df.values)\n",
    "df_scaled = scaler.transform(df.values)"
   ]
  },
  {
   "cell_type": "markdown",
   "id": "3860d8f0-eb50-48d1-9200-23ef7e722953",
   "metadata": {},
   "source": [
    "Elbow method\n",
    "<br>The elbow method is a visual technique used to determine the optimal number of clusters (k) for K-means clustering. "
   ]
  },
  {
   "cell_type": "code",
   "execution_count": 48,
   "id": "b9199e1d-d1a8-4ce8-9822-02a8504995e3",
   "metadata": {},
   "outputs": [
    {
     "name": "stdout",
     "output_type": "stream",
     "text": [
      "Now processing with K = 1\n",
      "Now processing with K = 2\n",
      "Now processing with K = 3\n",
      "Now processing with K = 4\n",
      "Now processing with K = 5\n",
      "Now processing with K = 6\n",
      "Now processing with K = 7\n",
      "Now processing with K = 8\n",
      "Now processing with K = 9\n",
      "Now processing with K = 10\n",
      "Now processing with K = 11\n",
      "Now processing with K = 12\n",
      "Now processing with K = 13\n",
      "Now processing with K = 14\n"
     ]
    },
    {
     "data": {
      "image/png": "[encoded data removed]",
      "text/plain": [
       "<Figure size 432x288 with 1 Axes>"
      ]
     },
     "metadata": {
      "needs_background": "light"
     },
     "output_type": "display_data"
    }
   ],
   "source": [
    "# initialize kmeans parameters\n",
    "kmeans_kwargs = {\n",
    "    \"init\": \"random\",\n",
    "    \"n_init\": 10,\n",
    "    \"random_state\": 1,\n",
    "}\n",
    "\n",
    "#create list to hold SSE values for each k\n",
    "sse = []\n",
    "Ks = 15\n",
    "for k in range(1, Ks):\n",
    "    print(f\"Now processing with K = {k}\")\n",
    "    kmeans = KMeans(n_clusters=k, **kmeans_kwargs)\n",
    "    kmeans.fit(df_scaled)\n",
    "    sse.append(kmeans.inertia_)\n",
    "\n",
    "# visualize results\n",
    "plt.figure()\n",
    "plt.plot(range(1, Ks), sse)\n",
    "plt.xticks(range(1, Ks))\n",
    "plt.xlabel(\"Number of Clusters\")\n",
    "plt.ylabel(\"SSE\")\n",
    "plt.savefig('Images/Elbow_Method.png')\n",
    "plt.show()"
   ]
  },
  {
   "cell_type": "markdown",
   "id": "53325236-1ff2-40f9-96ce-82a11d4f520b",
   "metadata": {},
   "source": [
    "Conclusion: Elbow method showed that K = 9 is a reasonable choice."
   ]
  },
  {
   "cell_type": "code",
   "execution_count": 49,
   "id": "22a684cd-7922-49d0-91c3-6ae81093e822",
   "metadata": {},
   "outputs": [],
   "source": [
    "kmeans = KMeans(n_clusters=9, **kmeans_kwargs)\n",
    "kmeans.fit(df_scaled)\n",
    "label_source['cluster'] = kmeans.predict(df_scaled) # add cluster column to Label"
   ]
  },
  {
   "cell_type": "code",
   "execution_count": 50,
   "id": "f4c299e7-c33e-41ef-9581-93d9e58c7651",
   "metadata": {},
   "outputs": [
    {
     "name": "stdout",
     "output_type": "stream",
     "text": [
      "Precentage:\n",
      "8    0.423977\n",
      "6    0.255629\n",
      "4    0.126328\n",
      "0    0.106280\n",
      "7    0.047635\n",
      "3    0.014142\n",
      "1    0.013407\n",
      "2    0.010583\n",
      "5    0.002017\n",
      "Name: cluster, dtype: float64\n"
     ]
    }
   ],
   "source": [
    "# clusters distribution in benign samples\n",
    "benigns = label_source[label_source['Label'] == 'BENIGN']\n",
    "print(f\"Precentage:\")\n",
    "print(benigns['cluster'].value_counts() / benigns.shape[0])"
   ]
  },
  {
   "cell_type": "markdown",
   "id": "6108d8cf-82ba-4998-b4ab-73b6bf973215",
   "metadata": {},
   "source": [
    "Conclusion: ~96% of the data belong to clusters: 8, 6, 4, 0, 7\n",
    "<br> The other 3% belong to clusters: 1, 2, 3, 5\n",
    "<br> All samples belong to clusters  1, 2, 3, 5 will be discarded.\n",
    "<br> Importent NOTE: those samples most be reported on and discussed with Sleek Data teams."
   ]
  },
  {
   "cell_type": "markdown",
   "id": "50a1e3f7-1d10-4771-bcfc-943a048ae024",
   "metadata": {},
   "source": [
    "# Final data for ML model \n",
    "<br> Data for ML model will be saved at: data/processed_data.pkl"
   ]
  },
  {
   "cell_type": "code",
   "execution_count": 52,
   "id": "8da4cd2f-d653-4382-9d36-9150a9326afe",
   "metadata": {},
   "outputs": [
    {
     "name": "stdout",
     "output_type": "stream",
     "text": [
      "Data Final Shape: (2386579, 43)\n"
     ]
    }
   ],
   "source": [
    "df = pd.concat([df, label_source], axis=1)\n",
    "df = df[df['cluster'].isin([8, 6, 4, 0, 7])]\n",
    "df = df.drop(['source', 'cluster'], axis=1)\n",
    "df = df.reset_index(drop=True)\n",
    "print(f\"Data Final Shape: {df.shape}\")\n",
    "with open('data/processed_data.pkl', 'wb') as f:\n",
    "    pickle.dump(df, f)"
   ]
  },
  {
   "cell_type": "code",
   "execution_count": null,
   "id": "0a90d8d4-ddbe-433e-bd72-3190776b4781",
   "metadata": {},
   "outputs": [],
   "source": []
  }
 ],
 "metadata": {
  "kernelspec": {
   "display_name": "Python 3",
   "language": "python",
   "name": "python3"
  },
  "language_info": {
   "codemirror_mode": {
    "name": "ipython",
    "version": 3
   },
   "file_extension": ".py",
   "mimetype": "text/x-python",
   "name": "python",
   "nbconvert_exporter": "python",
   "pygments_lexer": "ipython3",
   "version": "3.8.8"
  }
 },
 "nbformat": 4,
 "nbformat_minor": 5
}
